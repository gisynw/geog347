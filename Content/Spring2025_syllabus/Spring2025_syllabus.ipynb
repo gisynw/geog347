{
 "cells": [
  {
   "cell_type": "markdown",
   "metadata": {},
   "source": [
    "<iframe src=\"https://gisynw.github.io/geog386/Content/PythonProgrammingSpring2025.pdf\" width=\"120%\" height=\"800\"></iframe>\n"
   ]
  }
 ],
 "metadata": {
  "language_info": {
   "name": "python"
  }
 },
 "nbformat": 4,
 "nbformat_minor": 2
}
